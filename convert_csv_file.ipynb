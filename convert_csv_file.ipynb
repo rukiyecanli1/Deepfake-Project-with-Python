{
  "nbformat": 4,
  "nbformat_minor": 0,
  "metadata": {
    "colab": {
      "name": "convert_csv_file.ipynb",
      "provenance": [],
      "collapsed_sections": [],
      "authorship_tag": "ABX9TyMJJ0eVfVvqc6A0fjNVbtio",
      "include_colab_link": true
    },
    "kernelspec": {
      "name": "python3",
      "display_name": "Python 3"
    },
    "language_info": {
      "name": "python"
    }
  },
  "cells": [
    {
      "cell_type": "markdown",
      "metadata": {
        "id": "view-in-github",
        "colab_type": "text"
      },
      "source": [
        "<a href=\"https://colab.research.google.com/github/rukiyecanli1/Deepfake-Project-with-Python/blob/main/convert_csv_file.ipynb\" target=\"_parent\"><img src=\"https://colab.research.google.com/assets/colab-badge.svg\" alt=\"Open In Colab\"/></a>"
      ]
    },
    {
      "cell_type": "code",
      "metadata": {
        "colab": {
          "base_uri": "https://localhost:8080/"
        },
        "id": "_RURZFL7u3wb",
        "outputId": "80226235-b707-4f6a-f7eb-108312ad6d61"
      },
      "source": [
        "!pip3 install SpeechRecognition pydub"
      ],
      "execution_count": null,
      "outputs": [
        {
          "output_type": "stream",
          "text": [
            "Collecting SpeechRecognition\n",
            "\u001b[?25l  Downloading https://files.pythonhosted.org/packages/26/e1/7f5678cd94ec1234269d23756dbdaa4c8cfaed973412f88ae8adf7893a50/SpeechRecognition-3.8.1-py2.py3-none-any.whl (32.8MB)\n",
            "\u001b[K     |████████████████████████████████| 32.8MB 94kB/s \n",
            "\u001b[?25hCollecting pydub\n",
            "  Downloading https://files.pythonhosted.org/packages/a6/53/d78dc063216e62fc55f6b2eebb447f6a4b0a59f55c8406376f76bf959b08/pydub-0.25.1-py2.py3-none-any.whl\n",
            "Installing collected packages: SpeechRecognition, pydub\n",
            "Successfully installed SpeechRecognition-3.8.1 pydub-0.25.1\n"
          ],
          "name": "stdout"
        }
      ]
    },
    {
      "cell_type": "code",
      "metadata": {
        "id": "pSlt3GkFvCnt"
      },
      "source": [
        "from google.colab import drive\n",
        "drive.mount('/content/drive')\n"
      ],
      "execution_count": null,
      "outputs": []
    },
    {
      "cell_type": "code",
      "metadata": {
        "id": "mf2wxQU-vCvc"
      },
      "source": [
        "# importing libraries \n",
        "import speech_recognition as sr \n",
        "import os \n",
        "from pydub import AudioSegment\n",
        "from pydub.silence import split_on_silence"
      ],
      "execution_count": null,
      "outputs": []
    },
    {
      "cell_type": "code",
      "metadata": {
        "id": "JWNtM705vC1z"
      },
      "source": [
        "# create a speech recognition object\n",
        "r = sr.Recognizer()"
      ],
      "execution_count": null,
      "outputs": []
    },
    {
      "cell_type": "code",
      "metadata": {
        "id": "Mx0sEGYH3asX"
      },
      "source": [
        "# a function that splits the audio file into chunks\n",
        "# and applies speech recognition\n",
        "def get_large_audio_transcription(path):\n",
        "    \"\"\"\n",
        "    Splitting the large audio file into chunks\n",
        "    and apply speech recognition on each of these chunks\n",
        "    \"\"\"\n",
        "    # open the audio file using pydub\n",
        "    sound = AudioSegment.from_wav(path)  \n",
        "    # split audio sound where silence is 700 miliseconds or more and get chunks\n",
        "    chunks = split_on_silence(sound,\n",
        "        # experiment with this value for your target audio file\n",
        "        min_silence_len = 500,\n",
        "        # adjust this per requirement\n",
        "        silence_thresh = sound.dBFS-14,\n",
        "        # keep the silence for 1 second, adjustable as well\n",
        "        keep_silence=500,\n",
        "    )\n",
        "    folder_name = \"audio-chunks\"\n",
        "    # create a directory to store the audio chunks\n",
        "    if not os.path.isdir(folder_name):\n",
        "        os.mkdir(folder_name)\n",
        "    whole_text = \"\"\n",
        "    # process each chunk \n",
        "    for i, audio_chunk in enumerate(chunks, start=1):\n",
        "        # export audio chunk and save it in\n",
        "        # the `folder_name` directory.\n",
        "        chunk_filename = os.path.join(folder_name, f\"chunk{i}.wav\")\n",
        "        audio_chunk.export(chunk_filename, format=\"wav\")\n",
        "        # recognize the chunk\n",
        "        with sr.AudioFile(chunk_filename) as source:\n",
        "            audio_listened = r.record(source)\n",
        "            # try converting it to text\n",
        "            try:\n",
        "                #text = r.recognize_google(audio_listened)\n",
        "                text = r.recognize_google(audio_listened, language=\"tr\")\n",
        "            except sr.UnknownValueError as e:\n",
        "                print(\"Error:\", str(e))\n",
        "            else:\n",
        "                text = f\"{text.capitalize()}. \"\n",
        "                print(chunk_filename, \":\", text)\n",
        "                whole_text += text\n",
        "    # return the text for all chunks detected\n",
        "    return whole_text"
      ],
      "execution_count": null,
      "outputs": []
    },
    {
      "cell_type": "code",
      "metadata": {
        "id": "ngoHJUlUV1OV"
      },
      "source": [
        " # BURAYI KENDİ SPEECH KLASÖR YOLUNUZLA DEĞİŞTİRİN \n",
        " PATH=\"/content/drive/MyDrive/Covidli/Covid_90-109\" \n",
        "\n",
        " # DOSYALARI KAYDETMEK İSTEDİĞİNİZ KLASÖRÜN YOLU\n",
        " # DRİVE İÇİNDE BİR KLASÖRÜN YOLUNU VERİRSENİZ ORAYA KAYDEDER, SONRADAN İNDİRİP YÜKLEMEYE UĞRAŞMAZSINIZ\n",
        " PATH_2 = \"/content/drive/MyDrive/SRT/CSV_90-109\" \n",
        " \n",
        " for i in os.listdir(PATH):\n",
        "   print(i)\n",
        "   full_text = get_large_audio_transcription(f\"{PATH}/{i}\")\n",
        "   print(\"\\nFull text:\", full_text)\n",
        "   \n",
        "   chunk_num = 1 \n",
        "\n",
        "   for cumle in full_text.split(\".\"):\n",
        "\n",
        "     # dosya ismindeki wav kısmını atıyoruz \n",
        "     dosya_adi = i.split(\".\")[0] \n",
        "\n",
        "       with open(f\"{PATH_2}/{dosya_adi}_{chunk_num}.csv\", \"w\") as file:\n",
        "\n",
        "       # Cumleleri yazarken en başa boşluk koyuyordu o yüzden lstrip ekledim\n",
        "       file.write(cumle.lstrip()) \n",
        "     \n",
        "     chunk_num += 1"
      ],
      "execution_count": null,
      "outputs": []
    }
  ]
}