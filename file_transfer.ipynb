{
  "nbformat": 4,
  "nbformat_minor": 0,
  "metadata": {
    "colab": {
      "name": " file_transfer.ipynb",
      "provenance": [],
      "mount_file_id": "1aDX4AHh99A0WgXADoeFOhEwmh4xLid5E",
      "authorship_tag": "ABX9TyMyz+zsZQjUBsQuG1gGDfLP",
      "include_colab_link": true
    },
    "kernelspec": {
      "name": "python3",
      "display_name": "Python 3"
    },
    "language_info": {
      "name": "python"
    }
  },
  "cells": [
    {
      "cell_type": "markdown",
      "metadata": {
        "id": "view-in-github",
        "colab_type": "text"
      },
      "source": [
        "<a href=\"https://colab.research.google.com/github/rukiyecanli1/Deepfake-Project-with-Python/blob/main/file_transfer.ipynb\" target=\"_parent\"><img src=\"https://colab.research.google.com/assets/colab-badge.svg\" alt=\"Open In Colab\"/></a>"
      ]
    },
    {
      "cell_type": "code",
      "metadata": {
        "id": "SdiKyx2tcVni"
      },
      "source": [
        "import os \n",
        "import shutil\n",
        "\n",
        "src= \"/content/drive/MyDrive/Makaleler/Chunks_wav\"\n",
        "dst= \"/content/drive/MyDrive/ML/Datasets/saltzvoice/wav s\"\n",
        "\n",
        "for file_name in os.listdir(src):\n",
        "    if file_name.endswith('.wav'):\n",
        "        shutil.move(os.path.join(src, file_name), dst)"
      ],
      "execution_count": null,
      "outputs": []
    },
    {
      "cell_type": "code",
      "metadata": {
        "id": "TcEap4JhcXiJ"
      },
      "source": [
        ""
      ],
      "execution_count": null,
      "outputs": []
    },
    {
      "cell_type": "code",
      "metadata": {
        "id": "Lh4I5poNcYDi"
      },
      "source": [
        ""
      ],
      "execution_count": null,
      "outputs": []
    },
    {
      "cell_type": "code",
      "metadata": {
        "id": "jTlHDIggagnw"
      },
      "source": [
        ""
      ],
      "execution_count": null,
      "outputs": []
    },
    {
      "cell_type": "code",
      "metadata": {
        "id": "omAdF0q-abhW"
      },
      "source": [
        ""
      ],
      "execution_count": null,
      "outputs": []
    },
    {
      "cell_type": "code",
      "metadata": {
        "id": "HeVxH-QfXzwi"
      },
      "source": [
        ""
      ],
      "execution_count": null,
      "outputs": []
    }
  ]
}