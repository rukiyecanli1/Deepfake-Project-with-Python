{
  "nbformat": 4,
  "nbformat_minor": 0,
  "metadata": {
    "colab": {
      "name": "AllText.ipynb",
      "provenance": [],
      "collapsed_sections": [],
      "mount_file_id": "19vlXTjte86xiLjloQDV64XIYvyOQNTXT",
      "authorship_tag": "ABX9TyNRKepT+mZNJblQd1Ac1QQ1",
      "include_colab_link": true
    },
    "kernelspec": {
      "name": "python3",
      "display_name": "Python 3"
    },
    "language_info": {
      "name": "python"
    },
    "accelerator": "GPU"
  },
  "cells": [
    {
      "cell_type": "markdown",
      "metadata": {
        "id": "view-in-github",
        "colab_type": "text"
      },
      "source": [
        "<a href=\"https://colab.research.google.com/github/rukiyecanli1/Deepfake-Project-with-Python/blob/main/AllText.ipynb\" target=\"_parent\"><img src=\"https://colab.research.google.com/assets/colab-badge.svg\" alt=\"Open In Colab\"/></a>"
      ]
    },
    {
      "cell_type": "code",
      "metadata": {
        "id": "TivhC2f0_l7D"
      },
      "source": [
        "!pip3 install SpeechRecognition pydub\n"
      ],
      "execution_count": null,
      "outputs": []
    },
    {
      "cell_type": "code",
      "metadata": {
        "id": "Az7suGl4_mKT",
        "colab": {
          "base_uri": "https://localhost:8080/"
        },
        "outputId": "ba6807d6-3ee6-4a8c-b331-3448fe1f2e97"
      },
      "source": [
        "from google.colab import drive\n",
        "drive.mount('/content/drive')"
      ],
      "execution_count": null,
      "outputs": [
        {
          "output_type": "stream",
          "text": [
            "Drive already mounted at /content/drive; to attempt to forcibly remount, call drive.mount(\"/content/drive\", force_remount=True).\n"
          ],
          "name": "stdout"
        }
      ]
    },
    {
      "cell_type": "code",
      "metadata": {
        "id": "l2vWZzc0_mf4"
      },
      "source": [
        "# importing libraries \n",
        "import speech_recognition as sr \n",
        "import os \n",
        "from pydub import AudioSegment\n",
        "from pydub.silence import split_on_silence"
      ],
      "execution_count": null,
      "outputs": []
    },
    {
      "cell_type": "code",
      "metadata": {
        "id": "-jMmo1MFucz1"
      },
      "source": [
        "# create a speech recognition object\n",
        "r = sr.Recognizer()"
      ],
      "execution_count": null,
      "outputs": []
    },
    {
      "cell_type": "code",
      "metadata": {
        "id": "CDYRTarQufl1"
      },
      "source": [
        "# a function that splits the audio file into chunks\n",
        "# and applies speech recognition\n",
        "def get_large_audio_transcription(path):\n",
        "    \"\"\"\n",
        "    Splitting the large audio file into chunks\n",
        "    and apply speech recognition on each of these chunks\n",
        "    \"\"\"\n",
        "    # open the audio file using pydub\n",
        "    sound = AudioSegment.from_wav(path)  \n",
        "    # split audio sound where silence is 700 miliseconds or more and get chunks\n",
        "    chunks = split_on_silence(sound,\n",
        "        # experiment with this value for your target audio file\n",
        "        min_silence_len = 500,\n",
        "        # adjust this per requirement\n",
        "        silence_thresh = sound.dBFS-14,\n",
        "        # keep the silence for 1 second, adjustable as well\n",
        "        keep_silence=500,\n",
        "    )\n",
        "    folder_name = \"audio-chunks\"\n",
        "    # create a directory to store the audio chunks\n",
        "    if not os.path.isdir(folder_name):\n",
        "        os.mkdir(folder_name)\n",
        "    whole_text = \"\"\n",
        "    # process each chunk \n",
        "    for i, audio_chunk in enumerate(chunks, start=1):\n",
        "        # export audio chunk and save it in\n",
        "        # the `folder_name` directory.\n",
        "        chunk_filename = os.path.join(folder_name, f\"chunk{i}.wav\")\n",
        "        audio_chunk.export(chunk_filename, format=\"wav\")\n",
        "        # recognize the chunk\n",
        "        with sr.AudioFile(chunk_filename) as source:\n",
        "            audio_listened = r.record(source)\n",
        "            # try converting it to text\n",
        "            try:\n",
        "                #text = r.recognize_google(audio_listened)\n",
        "                text = r.recognize_google(audio_listened, language=\"tr\")\n",
        "            except sr.UnknownValueError as e:\n",
        "                print(\"Error:\", str(e))\n",
        "            else:\n",
        "                text = f\"{text.capitalize()}. \"\n",
        "              #  print(chunk_filename, \":\", text)\n",
        "                whole_text += text +\"\\n\"\n",
        "    # return the text for all chunks detected\n",
        "    return whole_text"
      ],
      "execution_count": null,
      "outputs": []
    },
    {
      "cell_type": "code",
      "metadata": {
        "id": "yqeGPMmS9RtS"
      },
      "source": [
        "# BURAYI KENDİ SPEECH KLASÖR YOLUNUZLA DEĞİŞTİRİN \n",
        "PATH=\"/content/drive/MyDrive/DeepFakeProjesi/Covidli/1cov\"\n",
        "\n",
        " # DOSYALARI KAYDETMEK İSTEDİĞİNİZ KLASÖRÜN YOLU\n",
        " # DRİVE İÇİNDE BİR KLASÖRÜN YOLUNU VERİRSENİZ ORAYA KAYDEDER, SONRADAN İNDİRİP YÜKLEMEYE UĞRAŞMAZSINIZ\n",
        "folder_name = \"/content/drive/MyDrive/DeepFakeProjesi/Covidli/1cov\" \n",
        " \n",
        "for i in os.listdir(PATH):\n",
        "  full_text = get_large_audio_transcription(f\"{PATH}/{i}\")\n",
        "     # dosya ismindeki wav kısmını atıyoruz \n",
        "  dosya_adi = i.split(\".\")[0] \n",
        "  with open(f\"{folder_name}/{dosya_adi}.csv\", \"w\") as file:\n",
        "\n",
        "       # Cumleleri yazarken en başa boşluk koyuyordu o yüzden lstrip ekledim\n",
        "     file.write(full_text) "
      ],
      "execution_count": null,
      "outputs": []
    }
  ]
}