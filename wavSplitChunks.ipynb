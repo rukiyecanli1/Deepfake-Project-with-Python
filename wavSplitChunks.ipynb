{
  "nbformat": 4,
  "nbformat_minor": 0,
  "metadata": {
    "colab": {
      "name": "wavSplitChunks.ipynb",
      "provenance": [],
      "collapsed_sections": [],
      "authorship_tag": "ABX9TyPKHrK9yochRrIz0401XNj3",
      "include_colab_link": true
    },
    "kernelspec": {
      "name": "python3",
      "display_name": "Python 3"
    },
    "language_info": {
      "name": "python"
    },
    "accelerator": "GPU"
  },
  "cells": [
    {
      "cell_type": "markdown",
      "metadata": {
        "id": "view-in-github",
        "colab_type": "text"
      },
      "source": [
        "<a href=\"https://colab.research.google.com/github/rukiyecanli1/Deepfake-Project-with-Python/blob/main/wavSplitChunks.ipynb\" target=\"_parent\"><img src=\"https://colab.research.google.com/assets/colab-badge.svg\" alt=\"Open In Colab\"/></a>"
      ]
    },
    {
      "cell_type": "code",
      "metadata": {
        "colab": {
          "base_uri": "https://localhost:8080/"
        },
        "id": "irUOBIqNndh1",
        "outputId": "679425e0-048d-4372-f6b2-5d392e6c1900"
      },
      "source": [
        "!pip3 install SpeechRecognition pydub"
      ],
      "execution_count": null,
      "outputs": [
        {
          "output_type": "stream",
          "text": [
            "Collecting SpeechRecognition\n",
            "\u001b[?25l  Downloading https://files.pythonhosted.org/packages/26/e1/7f5678cd94ec1234269d23756dbdaa4c8cfaed973412f88ae8adf7893a50/SpeechRecognition-3.8.1-py2.py3-none-any.whl (32.8MB)\n",
            "\u001b[K     |████████████████████████████████| 32.8MB 89kB/s \n",
            "\u001b[?25hCollecting pydub\n",
            "  Downloading https://files.pythonhosted.org/packages/a6/53/d78dc063216e62fc55f6b2eebb447f6a4b0a59f55c8406376f76bf959b08/pydub-0.25.1-py2.py3-none-any.whl\n",
            "Installing collected packages: SpeechRecognition, pydub\n",
            "Successfully installed SpeechRecognition-3.8.1 pydub-0.25.1\n"
          ],
          "name": "stdout"
        }
      ]
    },
    {
      "cell_type": "code",
      "metadata": {
        "colab": {
          "base_uri": "https://localhost:8080/"
        },
        "id": "mHitJ0-pngTw",
        "outputId": "978cda63-2a58-4650-bf6e-c01b732430b3"
      },
      "source": [
        "from google.colab import drive\n",
        "drive.mount('/content/drive')\n"
      ],
      "execution_count": null,
      "outputs": [
        {
          "output_type": "stream",
          "text": [
            "Drive already mounted at /content/drive; to attempt to forcibly remount, call drive.mount(\"/content/drive\", force_remount=True).\n"
          ],
          "name": "stdout"
        }
      ]
    },
    {
      "cell_type": "code",
      "metadata": {
        "id": "QUJ9ULciniYZ"
      },
      "source": [
        "# importing libraries \n",
        "import speech_recognition as sr \n",
        "import os \n",
        "from pydub import AudioSegment\n",
        "from pydub.silence import split_on_silence"
      ],
      "execution_count": null,
      "outputs": []
    },
    {
      "cell_type": "code",
      "metadata": {
        "id": "UF0wFa1mnkCs"
      },
      "source": [
        "# create a speech recognition object\n",
        "r = sr.Recognizer()"
      ],
      "execution_count": null,
      "outputs": []
    },
    {
      "cell_type": "code",
      "metadata": {
        "id": "pGT610Ql7dB1"
      },
      "source": [
        "PATH=\"/content/drive/MyDrive/Covidli/Covid_46-67\" \n",
        "folder_name = \"/content/drive/MyDrive/WAV/WAV_46-67\" \n",
        "for i in os.listdir(PATH):\n",
        "  print(i)\n",
        "  path= f\"{PATH}/{i}\"\n",
        "  \"\"\"\n",
        "    Splitting the large audio file into chunks\n",
        "    and apply speech recognition on each of these chunks\n",
        "    \"\"\"\n",
        "  # open the audio file using pydub\n",
        "  sound = AudioSegment.from_wav(path)  \n",
        "  # split audio sound where silence is 700 miliseconds or more and get chunks\n",
        "  chunks = split_on_silence(sound,\n",
        "      # experiment with this value for your target audio file\n",
        "      min_silence_len = 500,\n",
        "      # adjust this per requirement\n",
        "      silence_thresh = sound.dBFS-14,\n",
        "      # keep the silence for 1 second, adjustable as well\n",
        "      keep_silence=500,\n",
        "    )\n",
        "  for cumle in path.split(\".\"):\n",
        "    dosya_adi = i.split(\".\")[0]\n",
        "    #print(\"cümle:\",cumle)\n",
        "    \n",
        "    for j, audio_chunk in enumerate(chunks, start=1):\n",
        "      with open(f\"{folder_name}/{dosya_adi}_{j}.wav\", \"w\") as file:\n",
        "        chunk_filename = os.path.join(folder_name, f\"{dosya_adi}_{j}.wav\")\n",
        "        #print(\"chunk_filename\",chunk_filename)\n",
        "        audio_chunk.export(chunk_filename, format=\"wav\")\n",
        "      \n",
        "    \n",
        "\n"
      ],
      "execution_count": null,
      "outputs": []
    }
  ]
}